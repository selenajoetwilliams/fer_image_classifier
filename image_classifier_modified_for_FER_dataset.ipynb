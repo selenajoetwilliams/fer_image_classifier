{
  "nbformat": 4,
  "nbformat_minor": 0,
  "metadata": {
    "colab": {
      "provenance": [],
      "gpuType": "T4",
      "mount_file_id": "1iGh25TvVKVb8Vg8t5yZWcRLvLHfQL4xk",
      "authorship_tag": "ABX9TyPMgOz9d5oD5QyddJrzkPDy",
      "include_colab_link": true
    },
    "kernelspec": {
      "name": "python3",
      "display_name": "Python 3"
    },
    "language_info": {
      "name": "python"
    },
    "accelerator": "GPU",
    "gpuClass": "standard"
  },
  "cells": [
    {
      "cell_type": "markdown",
      "metadata": {
        "id": "view-in-github",
        "colab_type": "text"
      },
      "source": [
        "<a href=\"https://colab.research.google.com/github/selenajoetwilliams/fer_image_classifier/blob/main/image_classifier_modified_for_FER_dataset.ipynb\" target=\"_parent\"><img src=\"https://colab.research.google.com/assets/colab-badge.svg\" alt=\"Open In Colab\"/></a>"
      ]
    },
    {
      "cell_type": "markdown",
      "source": [
        "I am following this image classification tutorial on pytorch documentation:\n",
        "https://pytorch.org/tutorials/beginner/blitz/cifar10_tutorial.html\n",
        "\n",
        "I plan to adapt it to the FER dataset which is conveniently stored in torchvision datasets"
      ],
      "metadata": {
        "id": "g0ZXPFGPycKg"
      }
    },
    {
      "cell_type": "code",
      "execution_count": 1,
      "metadata": {
        "id": "CjkCPOSDyWur",
        "colab": {
          "base_uri": "https://localhost:8080/"
        },
        "outputId": "be412f0b-b03d-4ad8-923c-d90407d38fc6"
      },
      "outputs": [
        {
          "output_type": "stream",
          "name": "stdout",
          "text": [
            "Drive already mounted at /content/drive; to attempt to forcibly remount, call drive.mount(\"/content/drive\", force_remount=True).\n"
          ]
        }
      ],
      "source": [
        "%matplotlib inline\n",
        "import torch\n",
        "import torchvision\n",
        "import torchvision.transforms as transforms\n",
        "from google.colab import drive\n",
        "drive.mount('/content/drive')"
      ]
    },
    {
      "cell_type": "markdown",
      "source": [
        "# 1. Load & process data\n",
        "\n",
        "# Notes from this section:\n",
        "\n",
        "*   differences between trainset & testset: \n",
        "    * train = True for trainset, False for testset\n",
        "*   other notes about train & set set\n",
        "    * num_workers is a command that specifies parralel processing computation allocations -- just set it to a positive integer (2-8 is standard)\n",
        "    * download=True because we want to download the datasets locally\n",
        "\n",
        "\n",
        "**NOTE** the difference in transform functions between this and the image_classifier model in pytorch. The image_classifier model in pytorch has a transform function that works for RGB images, but the one here works for grayscale images."
      ],
      "metadata": {
        "id": "7RJgn4S-15mT"
      }
    },
    {
      "cell_type": "code",
      "source": [
        "transform = transforms.Compose([transforms.ToTensor(),\n",
        "transforms.Normalize((0.5,), (0.5,))\n",
        "])\n",
        "\n",
        "# batch sizes of 32, 64, or 128 are commonly used in many deep learning applications\n",
        "batch_size = 4\n",
        "\n",
        "trainset = torchvision.datasets.FER2013(root='/content/drive/MyDrive/', split=\"train\", transform=transform) # 80% for training, 20% for testing\n",
        "# training and testing (80-20) OR training, validation, & testing (70-30-30)\n",
        "# use first 80% of rows\n",
        "# most sphisticated: np.random -- randomly select 80% of data \n",
        "\n",
        "\n",
        "# trainset = torchvision.datasets.CIFAR10(root='./data', train=True,\n",
        "#                                         download=True, transform=transform)\n",
        "\n",
        "trainloader = torch.utils.data.DataLoader(trainset, batch_size=batch_size,\n",
        "                                          shuffle=True, num_workers=2)\n",
        "\n",
        "testset = torchvision.datasets.FER2013(root='/content/drive/MyDrive', split=\"test\", transform=transform)\n",
        "\n",
        "# testset = torchvision.datasets.CIFAR10(root='./data', train=False,\n",
        "#                                        download=True, transform=transform)\n",
        "\n",
        "testloader = torch.utils.data.DataLoader(testset, batch_size=batch_size,\n",
        "                                         shuffle=False, num_workers=2)\n",
        "\n",
        "classes = ('Angry', 'Disgust', 'Fear', 'Happy', 'Sad', 'Surprise', 'Neutral')\n",
        "\n",
        "\n",
        "# classes = ('plane', 'car', 'bird', 'cat',\n",
        "#            'deer', 'dog', 'frog', 'horse', 'ship', 'truck')\n",
        "\n",
        "# for FER it will be: 0=Angry, 1=Disgust, 2=Fear, 3=Happy, 4=Sad, 5=Surprise, 6=Neutral"
      ],
      "metadata": {
        "id": "RI_nKwhkygIi"
      },
      "execution_count": 2,
      "outputs": []
    },
    {
      "cell_type": "markdown",
      "source": [
        "# getting the testing data by splitting training data 80-20"
      ],
      "metadata": {
        "id": "7dQvfefgnjuu"
      }
    },
    {
      "cell_type": "code",
      "source": [
        "print(len(trainset))\n",
        "\n",
        "for x, batch in enumerate(trainloader):\n",
        "    pass\n",
        "    # assign get 80 % to be training, 20% testing"
      ],
      "metadata": {
        "colab": {
          "base_uri": "https://localhost:8080/"
        },
        "id": "LiuqL2g_ni6F",
        "outputId": "c4bf8c59-e710-429f-ffa6-3f070d564c57"
      },
      "execution_count": 3,
      "outputs": [
        {
          "output_type": "stream",
          "name": "stdout",
          "text": [
            "28709\n"
          ]
        }
      ]
    },
    {
      "cell_type": "markdown",
      "source": [
        "# Visualizing Data\n",
        "questoins: is dataiter & next(dataiter) only possible with iterable datasets? Pytorch documentaiton notes 2 kinds of datasets: iterable & map"
      ],
      "metadata": {
        "id": "T7_hxClK3m4r"
      }
    },
    {
      "cell_type": "code",
      "source": [
        "import matplotlib.pyplot as plt\n",
        "import numpy as np\n",
        "\n",
        "# functions to show an image\n",
        "\n",
        "def imshow(img):\n",
        "    img = img / 2 + 0.5     # unnormalize\n",
        "    npimg = img.numpy()\n",
        "    plt.imshow(np.transpose(npimg, (1, 2, 0)))\n",
        "    plt.show()\n",
        "\n",
        "\n",
        "# get some random training images\n",
        "dataiter = iter(trainloader)\n",
        "\n",
        "images, labels = next(dataiter)\n",
        "\n",
        "# show images\n",
        "imshow(torchvision.utils.make_grid(images))\n",
        "# print labels\n",
        "print(' '.join(f'{classes[labels[j]]:5s}' for j in range(batch_size)))"
      ],
      "metadata": {
        "colab": {
          "base_uri": "https://localhost:8080/",
          "height": 209
        },
        "id": "B_YMXtcG3mhL",
        "outputId": "2974f92f-5dd0-4d29-e8b7-02bf64c440e1"
      },
      "execution_count": 4,
      "outputs": [
        {
          "output_type": "display_data",
          "data": {
            "text/plain": [
              "<Figure size 640x480 with 1 Axes>"
            ],
            "image/png": "[encoded data removed]"
          },
          "metadata": {}
        },
        {
          "output_type": "stream",
          "name": "stdout",
          "text": [
            "Sad   Surprise Fear  Angry\n"
          ]
        }
      ]
    },
    {
      "cell_type": "markdown",
      "source": [
        "# 2. Defining a Convolutional Neural Network\n",
        "* note that this takes in 3-channel (RGB) images. If you want to see an example of 1-channel images, check the neural networks section from before this module in the pytorch 60 minute blitz\n",
        "\n",
        "Q: do all NN classes take in nn.Module? why?"
      ],
      "metadata": {
        "id": "_y9yueRA71zI"
      }
    },
    {
      "cell_type": "code",
      "source": [
        "import torch.nn as nn\n",
        "import torch.nn.functional as F\n",
        "\n",
        "\n",
        "class Net(nn.Module):\n",
        "    # def __init__(self):\n",
        "    #     super().__init__()\n",
        "    #     self.conv1 = nn.Conv2d(3, 6, 5)\n",
        "    #     self.pool = nn.MaxPool2d(2, 2)\n",
        "    #     self.conv2 = nn.Conv2d(6, 16, 5)\n",
        "    #     self.fc1 = nn.Linear(16 * 5 * 5, 120)\n",
        "    #     self.fc2 = nn.Linear(120, 84)\n",
        "    #     self.fc3 = nn.Linear(84, 10)\n",
        "\n",
        "    def __init__(self):\n",
        "        super().__init__()\n",
        "        self.conv1 = nn.Conv2d(1, 16, kernel_size=3, padding=1)\n",
        "        self.pool = nn.MaxPool2d(2, 2)\n",
        "        self.conv2 = nn.Conv2d(16, 32, kernel_size=3, padding=1)\n",
        "        self.fc1 = nn.Linear(32 * 12 * 12, 128)\n",
        "        self.fc2 = nn.Linear(128, 32)\n",
        "        self.fc3 = nn.Linear(32, 7)\n",
        "\n",
        "    def forward(self, x):\n",
        "        x = self.pool(F.relu(self.conv1(x)))\n",
        "        x = self.pool(F.relu(self.conv2(x)))\n",
        "        x = torch.flatten(x, 1) # flatten all dimensions except batch\n",
        "        x = F.relu(self.fc1(x))\n",
        "        x = F.relu(self.fc2(x))\n",
        "        x = self.fc3(x)\n",
        "        return x\n",
        "        print(\"in this forward pass, x is \") # TODO: REMOVE THIS\n",
        "        print(x)\n",
        "\n",
        "\n",
        "net = Net() # this creates an instance of the Net class, which has the constructor & forward function defined above\n"
      ],
      "metadata": {
        "id": "SLcSG9-q8Gmd"
      },
      "execution_count": 5,
      "outputs": []
    },
    {
      "cell_type": "markdown",
      "source": [
        "# 3. Define the Loss Function & optimizer\n",
        "Here we use Classification Cross-Entropy loss & SGD (stochastic gradient?) with momentum"
      ],
      "metadata": {
        "id": "bEtztwVURIvT"
      }
    },
    {
      "cell_type": "code",
      "source": [
        "import torch.optim as optim\n",
        "\n",
        "criterion = nn.CrossEntropyLoss()\n",
        "optimizer = optim.SGD(net.parameters(), lr=0.001, momentum=0.9)"
      ],
      "metadata": {
        "id": "OfLiWocTRck3"
      },
      "execution_count": 6,
      "outputs": []
    },
    {
      "cell_type": "markdown",
      "source": [
        "# 4. Train the network\n",
        "This is interesting: to do this: simply loop over the data iterator and feed the data into the network & optimize\n",
        "**note that we only have 2 epochs -- this is a sign of a really simple model. when you have time, go through and increase the epochs**"
      ],
      "metadata": {
        "id": "_5IuX-THSUNH"
      }
    },
    {
      "cell_type": "code",
      "source": [
        "for epoch in range(2):  # loop over the dataset multiple times\n",
        "    print('epoch ' + str(epoch))\n",
        "    running_loss = 0.0\n",
        "    for i, data in enumerate(trainloader, 0):\n",
        "        # get the inputs; data is a list of [inputs, labels]\n",
        "        inputs, labels = data\n",
        "\n",
        "        # zero the parameter gradients\n",
        "        optimizer.zero_grad()\n",
        "\n",
        "        '''\n",
        "        the 4 lines below represent one iteration through the training data\n",
        "\n",
        "        about the bottom 2 lines: \n",
        "        Together, these two lines of code represent one iteration of the training process. \n",
        "        The loss is computed for the current batch of data, the gradients are calculated, \n",
        "        and the optimizer updates the model parameters accordingly. This process is repeated \n",
        "        for multiple iterations (or \"epochs\") until the model's performance on a validation \n",
        "        set reaches a satisfactory level.\n",
        "        '''\n",
        "\n",
        "        # forward + backward + optimize\n",
        "        outputs = net(inputs)\n",
        "        loss = criterion(outputs, labels) # criterion is just a fancy word for the loss function!\n",
        "        loss.backward() \n",
        "        optimizer.step()\n",
        "\n",
        "        # print statistics\n",
        "        running_loss += loss.item()\n",
        "        if i % 2000 == 1999:    # print every 2000 mini-batches\n",
        "            print(f'[{epoch + 1}, {i + 1:5d}] loss: {running_loss / 2000:.3f}')\n",
        "            running_loss = 0.0\n",
        "\n",
        "print('Finished Training')"
      ],
      "metadata": {
        "colab": {
          "base_uri": "https://localhost:8080/"
        },
        "id": "qk3RSwO2OifV",
        "outputId": "c4e44260-5822-466f-9949-baabb11098e8"
      },
      "execution_count": 7,
      "outputs": [
        {
          "output_type": "stream",
          "name": "stdout",
          "text": [
            "epoch 0\n",
            "[1,  2000] loss: 1.819\n",
            "[1,  4000] loss: 1.748\n",
            "[1,  6000] loss: 1.686\n",
            "epoch 1\n",
            "[2,  2000] loss: 1.601\n",
            "[2,  4000] loss: 1.543\n",
            "[2,  6000] loss: 1.510\n",
            "Finished Training\n"
          ]
        }
      ]
    },
    {
      "cell_type": "markdown",
      "source": [
        "# Saving the model\n",
        "Let's quickly save our trained model:"
      ],
      "metadata": {
        "id": "JZC8EIJB8wdg"
      }
    },
    {
      "cell_type": "code",
      "source": [
        "PATH = './fer2013_net.pth' # Note that this name should change when we adapt this to fer dataset\n",
        "torch.save(net.state_dict(), PATH)"
      ],
      "metadata": {
        "id": "NngKj8VH82Jj"
      },
      "execution_count": 8,
      "outputs": []
    },
    {
      "cell_type": "markdown",
      "source": [
        "## 5. Visualizing the test data\n",
        "\n",
        "We have trained the network for 2 passes over the training dataset. But we need to check if the network has learnt anything at all.\n",
        "We will check this by predicting the class label that the neural network outputs, and checking it against the ground-truth. If the prediction is correct, we add the sample to the list of correct predictions.\n",
        "Okay, first step. Let us display an image from the test set to get familiar."
      ],
      "metadata": {
        "id": "pOzOLkJs9XPI"
      }
    },
    {
      "cell_type": "code",
      "source": [
        "import pandas as pd\n",
        "import numpy as np\n",
        "import torch\n",
        "\n",
        "test_df = pd.read_csv('/content/drive/MyDrive/fer2013/test.csv')\n",
        "\n",
        "print(\"top 5 rows are printed at bottom\")\n",
        "rows, cols = test_df.shape\n",
        "print(\"rows: \" + str(rows) + \" cols: \" + str(cols))\n",
        "\n",
        "\n",
        "\n",
        "# test_df.head().loc[:\"pixels\"]\n",
        "\n",
        "test_df\n",
        "test_df.columns\n",
        "\n",
        "print(test_df.pixels)\n",
        "\n",
        "np_arr = test_df.pixels.to_numpy # convert to numpy array\n",
        "# torch.dtype(np_arr) # error: cannot create 'torch.dtype' instances\n",
        "# print(np_arr.shape()) # error: 'function' object has no attrbute 'shape'\n",
        "\n",
        "# np_2d = np_arr.reshape(48, 48) # reshape \n",
        "# print(np_2d.shape())\n",
        "\n",
        "\n",
        "\n",
        "# for i in range(10):\n",
        "#   print(test_df[1][i])"
      ],
      "metadata": {
        "colab": {
          "base_uri": "https://localhost:8080/"
        },
        "id": "DI0A9psaNDXl",
        "outputId": "c530a720-fdcd-423a-96ee-bb9366ea8e37"
      },
      "execution_count": 9,
      "outputs": [
        {
          "output_type": "stream",
          "name": "stdout",
          "text": [
            "top 5 rows are printed at bottom\n",
            "rows: 7178 cols: 1\n",
            "0       254 254 254 254 254 249 255 160 2 58 53 70 77 ...\n",
            "1       156 184 198 202 204 207 210 212 213 214 215 21...\n",
            "2       69 118 61 60 96 121 103 87 103 88 70 90 115 12...\n",
            "3       205 203 236 157 83 158 120 116 94 86 155 180 2...\n",
            "4       87 79 74 66 74 96 77 80 80 84 83 89 102 91 84 ...\n",
            "                              ...                        \n",
            "7173    50 36 17 22 23 29 33 39 34 37 37 37 39 43 48 5...\n",
            "7174    178 174 172 173 181 188 191 194 196 199 200 20...\n",
            "7175    17 17 16 23 28 22 19 17 25 26 20 24 31 19 27 9...\n",
            "7176    30 28 28 29 31 30 42 68 79 81 77 67 67 71 63 6...\n",
            "7177    19 13 14 12 13 16 21 33 50 57 71 84 97 108 122...\n",
            "Name: pixels, Length: 7178, dtype: object\n"
          ]
        }
      ]
    },
    {
      "cell_type": "code",
      "source": [
        "import pandas as pd\n",
        "\n",
        "'''\n",
        "high level attempt:\n",
        "convert csv to pandas dataframe \n",
        "use numpy reshape to reshape from 1D array of pixels to 2D 48 x 48 pictures\n",
        "extract first 4 images from df, print them with imshow function\n",
        "'''\n",
        "\n",
        "# train_df = pd.resd_csv('/content/drive/MyDrive/fer2013/train.csv')\n",
        "# train_df.head()\n",
        "\n",
        "test_df = pd.read_csv('/content/drive/MyDrive/fer2013/test.csv') # \n",
        "print(type(test_df))\n",
        "# test_df = test_df.apply(pd.to_numeric)\n",
        "\n",
        "test_df.head(10)\n",
        "\n",
        "pixels = test_df.values\n",
        "\n",
        "# read test file\n",
        "# have some accuracy #s on test dataset & compare them w/ ground truth \n",
        "# switch datasets\n",
        "\n",
        "im_list = [] \n",
        "#instead of pixels[i], im_list.append(____)\n",
        "# once you split, make sure it's not a string, if so, you'll need \n",
        "# need to pass in a list of nums into im_show\n",
        "\n",
        "# previously I wasn't iterating over pixels --> would have to use map function to make old way work, use enumerate instead\n",
        "for i, val in enumerate(pixels): # enumerate makes a dict which has idx, value\n",
        "    print(val[0])\n",
        "    print(type(val[0]))\n",
        "\n",
        "    image = []\n",
        "    for pixel in val[0].split(' '):\n",
        "      image.append(pixel)\n",
        "    print(\"image is \")\n",
        "    print(image)\n",
        "    im_list.append(image)\n",
        "    print(\"im_list is \")\n",
        "    print(im_list)\n",
        "    # make new df and append the new image\n",
        "    # the string can be converted into list, but that list might still be s tring\n",
        "    # iterate over list & convert every string into a float\n",
        "    # create a new empty list & append the new list of images to that list\n",
        "\n",
        "    # print(val[0])\n",
        "    # print(val.shape)\n",
        "    # pixels[i] = val.strip('\"')\n",
        "    # print(pixels[i])\n",
        "\n",
        "# idx, pixels = test_df\n",
        "for i in range(3):\n",
        "  # pixels[i].strip()\n",
        "  print(pixels[i])\n",
        "\n",
        "# pic_list = test_df.split(\"'\") # split on quotes \n",
        "# pic_list = test_df.values.tolist() # converts dataframe to list\n",
        "# for i in range(3):\n",
        "#   pic_list[i].strip(\"'\")\n",
        "#   print(i)\n",
        "\n",
        "# for i in range(5):\n",
        "#   print(pic_list[i])\n",
        "\n",
        "# for i in pic_list: # for each image\n",
        "#   i.read_csv(delimiter=' ')\n",
        "\n",
        "def imshow(img):\n",
        "    # print(\"image is \")\n",
        "    # print(img)\n",
        "    # print(type(img))\n",
        "    # Convert pixel values to numpy array and reshape\n",
        "    npimg = np.array(img, dtype=float).reshape(48, 48) / 255.\n",
        "    # npimg = np.array(img).reshape((48, 48))\n",
        "\n",
        "    # Display image\n",
        "    plt.imshow(npimg, cmap='gray')\n",
        "    plt.show()\n",
        "\n",
        "# for i in range(4):\n",
        "#   pixels = test_df.iloc[i][pixels].values\n",
        "\n",
        "for image in pixels:\n",
        "    print(\"image type is \")\n",
        "    print(type(image))\n",
        "    print(f\"image {i}\")\n",
        "    imshow(image)"
      ],
      "metadata": {
        "colab": {
          "base_uri": "https://localhost:8080/"
        },
        "id": "_D6xtprS9fod",
        "outputId": "4507534d-c3fa-4025-b673-23723cc99dd7"
      },
      "execution_count": null,
      "outputs": [
        {
          "output_type": "stream",
          "name": "stderr",
          "text": [
            "IOPub data rate exceeded.\n",
            "The notebook server will temporarily stop sending output\n",
            "to the client in order to avoid crashing it.\n",
            "To change this limit, set the config variable\n",
            "`--NotebookApp.iopub_data_rate_limit`.\n",
            "\n",
            "Current values:\n",
            "NotebookApp.iopub_data_rate_limit=1000000.0 (bytes/sec)\n",
            "NotebookApp.rate_limit_window=3.0 (secs)\n",
            "\n"
          ]
        }
      ]
    },
    {
      "cell_type": "markdown",
      "source": [
        "Next, let's load back in our saved model\n",
        "\n",
        "# Loading the model\n",
        "\n",
        "Note: saving and re-loding the model ins't necesary here -- we only dd it to illustrate how to do so :)"
      ],
      "metadata": {
        "id": "x-0i2I2q-Kss"
      }
    },
    {
      "cell_type": "code",
      "source": [
        "net = Net()\n",
        "net.load_state_dict(torch.load(PATH))"
      ],
      "metadata": {
        "id": "Jm8d1bcB-TpE"
      },
      "execution_count": null,
      "outputs": []
    },
    {
      "cell_type": "markdown",
      "source": [
        "# Running the model on 4 test images\n",
        "Okay, now let's see what the neural network thinks the 4 examples above are:\n",
        "Note: this is a good practice so gauge how the model is generally doing before running it on the whole dataset (which can be time and computationally expensive)"
      ],
      "metadata": {
        "id": "Aqp0MZZu-rL2"
      }
    },
    {
      "cell_type": "code",
      "source": [
        "outputs = net(images)\n",
        "print(outputs) # this isn't necessary"
      ],
      "metadata": {
        "id": "7tzEjTiX-xrV"
      },
      "execution_count": null,
      "outputs": []
    },
    {
      "cell_type": "markdown",
      "source": [
        "The outputs are energies for the 7 classes. The higher the energy for a class, the more the network thinks that the image is of the particular class. So, let's get the index of the highest energy:"
      ],
      "metadata": {
        "id": "MFR-x7qY-9aQ"
      }
    },
    {
      "cell_type": "code",
      "source": [
        "# torch.max returns [maximum_tensor_value, index of the class with the highest probability]\n",
        "# prediced is a list of the indices of the labels\n",
        "_, predicted = torch.max(outputs, 1) # interestingly, '_,' is used to discard the first thing that torch.max returns\n",
        "\n",
        "# the label index is passed into the classes list to return the string representing the class label (at the predicted index)\n",
        "print('Predicted: ', ' '.join(f'{classes[predicted[j]]:5s}' for j in range(4)))\n",
        "\n",
        "# this is unecessary, but helps to understand what each variable is\n",
        "print(predicted)\n",
        "print(classes)"
      ],
      "metadata": {
        "id": "73O5sBq__IPf"
      },
      "execution_count": null,
      "outputs": []
    },
    {
      "cell_type": "markdown",
      "source": [
        "# Running the model on the entire test dataset\n",
        "Now we will run the model on the whole test dataset to see how it performs. Notice that we use simple counters to track & compute the average accuracy\n",
        "\n",
        "Another key thing to note: we **use torch.no_grad() when we're not training the model,** because we don't need to compute gradients during the testing phase & it would just waste space in memory"
      ],
      "metadata": {
        "id": "WyPLPWJqUT7g"
      }
    },
    {
      "cell_type": "code",
      "source": [
        "correct = 0\n",
        "total = 0\n",
        "# since we're not training, we don't need to calculate the gradients for our outputs\n",
        "with torch.no_grad():\n",
        "    for data in testloader:\n",
        "        images, labels = data\n",
        "        outputs = net(images)\n",
        "        _, predicted = torch.max(outputs, 1) # (outputs, 1) returns the class predictions like [3, 1, 8, 0] above\n",
        "        # collct the correct predictions for each class\n",
        "        total += labels.size(0)\n",
        "        correct += (predicted == labels).sum().item()\n",
        "print(f'Accuracy of the network on 10,000 test images: {100 * correct // total} %')"
      ],
      "metadata": {
        "id": "TMnWyVMvUX0c"
      },
      "execution_count": null,
      "outputs": []
    },
    {
      "cell_type": "markdown",
      "source": [
        "That looks way better than chance, which is 10% accuracy (picking a class at random). Sees llike the model learnt something. \n",
        "\n",
        "Hmm, what are the classes that performed well and the ones that didn't?\n",
        "\n",
        "# Exploring which classes performed well & which didn't\n",
        "\n",
        "Note: Notice that you will get different accuracies for each class every time you train the neural network. This is because "
      ],
      "metadata": {
        "id": "PEaoGABbdWpH"
      }
    },
    {
      "cell_type": "code",
      "source": [
        "correct_pred = {classname: 0 for classname in classes} # using dictionary comprehension here\n",
        "total_pred = {classname: 0 for classname in classes} \n",
        "\n",
        "# again, no gradients are needed\n",
        "with torch.no_grad():\n",
        "    for data in testloader:\n",
        "        images, labels = data\n",
        "        outputs = net(images)\n",
        "        _, predictions = torch.max(outputs, 1)\n",
        "        # collect the correct predictions for each class\n",
        "        for label, prediction in zip(labels, predictions): # for each label\n",
        "            if label == prediction: # if the (actual) label = the (expected) prediction \n",
        "                correct_pred[classes[label]] += 1 # increment correct predictions counter\n",
        "            total_pred[classes[label]] += 1 # increment total predictions \n",
        "\n",
        "for classname, correct_count in correct_pred.items():\n",
        "    accuracy = 100 * float(correct_count) / total_pred[classname]\n",
        "    print(f'Accuracy for class: {classname:5s} is {accuracy:.1f} %')\n"
      ],
      "metadata": {
        "id": "eDnlEcc3dWby"
      },
      "execution_count": null,
      "outputs": []
    },
    {
      "cell_type": "markdown",
      "source": [
        "Okay, so what next? How do we run these neural networks on the GPU?"
      ],
      "metadata": {
        "id": "DMr1WSsegZ7g"
      }
    },
    {
      "cell_type": "markdown",
      "source": [
        "# Training on GPU \n",
        "## using \"if torch.cuda.is_available\"\n",
        "Just like how you transfer a Tensor onto the GPU, you transfer the neural net onto the GPU. \n",
        "Let's first deine our device as the first visible cuda device is we have CUDA available:"
      ],
      "metadata": {
        "id": "Rgt5NSlYgc9S"
      }
    },
    {
      "cell_type": "code",
      "source": [
        "device = torch.device('cuda:0' if torch.cuda.is_available else 'cpu')\n",
        "# Now print device to see if we are running on the GPU (cuda) or CPU\n",
        "print(device) "
      ],
      "metadata": {
        "id": "6bwLrGF3gudq"
      },
      "execution_count": null,
      "outputs": []
    },
    {
      "cell_type": "markdown",
      "source": [
        "### Note: the rest of this sections assumes that device is a CUDA device\n",
        "\n",
        "Theses methods will recursively go ove all modules and convert their parameters and buffers to CUDA tensors:\n",
        "\n",
        ".. code:: python\n",
        "### Note: if you get an **error related to no NVIDIA driver** it just means you need to **change runtime type** from CPU -> GPU by clicking Runtime > Change Runtime Type above. Google Collab runs code remotely on google servers and gives you the choice between running on CPU or GPU.\n"
      ],
      "metadata": {
        "id": "VeJTRwesg_Y6"
      }
    },
    {
      "cell_type": "code",
      "source": [
        "net.to(device)"
      ],
      "metadata": {
        "id": "N4fPVE1QhJ8U"
      },
      "execution_count": null,
      "outputs": []
    },
    {
      "cell_type": "markdown",
      "source": [
        "Remember that you will have to send the inputs and targets at every step to the GPU too:\n",
        ".. code:: python"
      ],
      "metadata": {
        "id": "ikrxbCdxhPrO"
      }
    },
    {
      "cell_type": "code",
      "source": [
        "inputs, labels = data[0].to(device), data[1].to(device)"
      ],
      "metadata": {
        "id": "442Am58ihUjY"
      },
      "execution_count": null,
      "outputs": []
    },
    {
      "cell_type": "markdown",
      "source": [
        "Why don't I notice a MASSIVE speedup compared to CPU? Because your network is really small. \n",
        "\n",
        "**Exercise:** Try increasing the width of your network (argument 2 of the first nn.Conv2d, and argument 1 of the second nn.Conv2d -- they need to be the same number), see what kind of speedup you get.\n",
        "\n",
        "**Goals Achieved:** \n",
        "\n",
        "\n",
        "*   Understanding PyTorches Tensor librrary and neural networks at a high level\n",
        "*   Train a small neural network to classify images\n",
        "\n"
      ],
      "metadata": {
        "id": "2XvxeXpIlAam"
      }
    },
    {
      "cell_type": "markdown",
      "source": [
        "#Training on multiple GPUs\n",
        "If you want to see an even more MASSIVE speedup using all of your GPUs, please check out :doc:data_parallel_tutorial.\n",
        "\n",
        "# Where do I go next?\n",
        "\n",
        "*   :doc:Train neural nts to play video games </intermediate/reinforcement_q_learning>\n",
        "*   Train a state-of-the-art ResNet network on imagenet_\n",
        "*   Train a face generator using Generative Adversarial Networks_\n",
        "*   Train a word-level langugage model using Recurrent LSTM networks_\n",
        "*   More examples_\n",
        "*   More tutorials_\n",
        "*   Discuss PyTorch on the Forums_\n",
        "*   Chat with other users on Slack_\n",
        "\n",
        "\n",
        "\n",
        "\n",
        "\n",
        "\n"
      ],
      "metadata": {
        "id": "Jb6Bdr5-lYsq"
      }
    },
    {
      "cell_type": "markdown",
      "source": [
        "## The tutorial I followed included del dataiter here, but...\n",
        "\n",
        "del dataiter deletes the variable dataiter from memory, **while this could potentially free up some memory resources, this is typically not necessary in PyTorch as the framework handles memory management automatically.** "
      ],
      "metadata": {
        "id": "CdkDbov6mMHR"
      }
    },
    {
      "cell_type": "code",
      "source": [
        "del dataiter"
      ],
      "metadata": {
        "id": "S5K4Ki8dmJs-"
      },
      "execution_count": null,
      "outputs": []
    }
  ]
}