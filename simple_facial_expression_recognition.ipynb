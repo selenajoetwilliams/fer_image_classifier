{
  "nbformat": 4,
  "nbformat_minor": 0,
  "metadata": {
    "colab": {
      "provenance": [],
      "gpuType": "T4",
      "mount_file_id": "1iGh25TvVKVb8Vg8t5yZWcRLvLHfQL4xk",
      "authorship_tag": "ABX9TyOm7UcDBePNZVM8iuSuI4I3",
      "include_colab_link": true
    },
    "kernelspec": {
      "name": "python3",
      "display_name": "Python 3"
    },
    "language_info": {
      "name": "python"
    },
    "gpuClass": "standard"
  },
  "cells": [
    {
      "cell_type": "markdown",
      "metadata": {
        "id": "view-in-github",
        "colab_type": "text"
      },
      "source": [
        "<a href=\"https://colab.research.google.com/github/selenajoetwilliams/fer_image_classifier/blob/main/simple_facial_expression_recognition.ipynb\" target=\"_parent\"><img src=\"https://colab.research.google.com/assets/colab-badge.svg\" alt=\"Open In Colab\"/></a>"
      ]
    },
    {
      "cell_type": "markdown",
      "source": [
        "# Facial Expression Recognition Model"
      ],
      "metadata": {
        "id": "kpJgL7Y_WROj"
      }
    },
    {
      "cell_type": "markdown",
      "source": [
        "This is a simple CNN architecture for facial expression recognition using the FER 2013 Dataset\n",
        "\n",
        "Thank you to Ifrah Idrees & the Brown University Humans to Robots lab for your mentoring and support in this project!"
      ],
      "metadata": {
        "id": "Ra3ZqKAbeh63"
      }
    },
    {
      "cell_type": "markdown",
      "source": [
        "**Note:** I followed [this](https://pytorch.org/tutorials/beginner/blitz/cifar10_tutorial.html) image classification tutorial on pytorch documentation which I have adapted from image classification to facial epxression recognition."
      ],
      "metadata": {
        "id": "g0ZXPFGPycKg"
      }
    },
    {
      "cell_type": "markdown",
      "source": [
        "# 0. Imports"
      ],
      "metadata": {
        "id": "iTDs3xTCWtJx"
      }
    },
    {
      "cell_type": "code",
      "execution_count": null,
      "metadata": {
        "id": "CjkCPOSDyWur",
        "colab": {
          "base_uri": "https://localhost:8080/"
        },
        "outputId": "e8a0d7af-cf48-482a-8606-1c039a27a071"
      },
      "outputs": [
        {
          "output_type": "stream",
          "name": "stdout",
          "text": [
            "Drive already mounted at /content/drive; to attempt to forcibly remount, call drive.mount(\"/content/drive\", force_remount=True).\n"
          ]
        }
      ],
      "source": [
        "%matplotlib inline\n",
        "import torch\n",
        "import torchvision\n",
        "import torchvision.transforms as transforms\n",
        "from google.colab import drive\n",
        "drive.mount('/content/drive')"
      ]
    },
    {
      "cell_type": "markdown",
      "source": [
        "# 1. Load & process data"
      ],
      "metadata": {
        "id": "7RJgn4S-15mT"
      }
    },
    {
      "cell_type": "markdown",
      "source": [
        "# loading the dataset\n",
        "\n",
        "First we transform the data to fit a standardized format.\n",
        "\n",
        "Then we define batch_size, dataset, validation_set, and the classes, which are our labels for facial expression classification"
      ],
      "metadata": {
        "id": "Zkp0YJu2HSTl"
      }
    },
    {
      "cell_type": "code",
      "source": [
        "transform = transforms.Compose([transforms.ToTensor(),\n",
        "transforms.Normalize((0.5,), (0.5,))\n",
        "])\n",
        "\n",
        "# batch sizes of 32, 64, or 128 are commonly used in many deep learning applications, but we start w/ batch_size = 4 as a simple starting point\n",
        "batch_size = 4\n",
        "\n",
        "dataset = torchvision.datasets.FER2013(root='/content/drive/MyDrive/', split=\"train\", transform=transform) \n",
        "\n",
        "# NOTE: we probably won't use the validation set -- since it doesn't have ground truth labels\n",
        "validation_set = torchvision.datasets.FER2013(root='/content/drive/MyDrive', split=\"test\", transform=transform)\n",
        "\n",
        "classes = ('Angry', 'Disgust', 'Fear', 'Happy', 'Sad', 'Surprise', 'Neutral')\n",
        "\n"
      ],
      "metadata": {
        "id": "RI_nKwhkygIi"
      },
      "execution_count": null,
      "outputs": []
    },
    {
      "cell_type": "markdown",
      "source": [
        "# Splitting the data 80-20 \n",
        "80% for training, 20% for testing \n",
        "\n",
        "**Note:** Since the validation_set doesn't have any ground_truth labels, we split the training data 80-20 to train the model and test it's accuracy against ground truth labels "
      ],
      "metadata": {
        "id": "7dQvfefgnjuu"
      }
    },
    {
      "cell_type": "code",
      "source": [
        "# calculating how many samples should be in the train & test sets based on an 80-20 split\n",
        "data_size = len(dataset) \n",
        "num_training_samples = round(data_size * 0.8, 0) # the 0 parameter specifies that we want to round to the 0th digit so that we are left with whole #s (no decimals)\n",
        "num_testing_samples = round(data_size * 0.2, 0)\n",
        "\n",
        "# initialize empty lists to hold the training & testing data\n",
        "# note that data were shuffled when loaded so no randomizing has already occured \n",
        "train_set = []\n",
        "test_set = []\n",
        "\n",
        "# populating the train_set & test_set for an 80-20 split\n",
        "for x, batch in enumerate(dataset): # use the enumerate function to iterate over the dataset\n",
        "    # populating train_set\n",
        "    if x < num_training_samples:\n",
        "        train_set.append(batch)\n",
        "    # populating test_set\n",
        "    if x >= num_training_samples:\n",
        "        test_set.append(batch)\n",
        "  \n",
        "# printing out info about the dataset\n",
        "print('The dataset has ' + int(data_size) + ' elements') # dataset size\n",
        "print('The dataset source is ' + type(dataset))\n",
        "# calculating # of samples for 80-20 split\n",
        "print(\"data size is: \" + str(data_size) + \" so there are \" + str(num_training_samples) + \" training samples and \" + str(num_testing_samples) + \" testing samples.\") \n",
        "\n",
        "# printing length of train_set & test_set to make sure that it was split 80-20\n",
        "print(\"the test set has \" + str(len(test_set)) + \" samples.\")\n",
        "print(\"the train set has \" + str(len(train_set)) + \" samples.\")\n"
      ],
      "metadata": {
        "id": "TeopHyUh_gab",
        "colab": {
          "base_uri": "https://localhost:8080/"
        },
        "outputId": "8ba445e2-cd3e-47fd-c0d3-004c6bfb5fae"
      },
      "execution_count": null,
      "outputs": [
        {
          "output_type": "stream",
          "name": "stdout",
          "text": [
            "28709\n",
            "<class 'torchvision.datasets.fer2013.FER2013'>\n",
            "data size is: 28709 so there are 22967.0 training samples and 5742.0 testing samples.\n",
            "the test set has 5742 samples.\n",
            "the train set has 22967 samples.\n"
          ]
        }
      ]
    },
    {
      "cell_type": "markdown",
      "source": [
        "# loading the train_set and test_set\n",
        "Using pytorch Dataloader"
      ],
      "metadata": {
        "id": "94QChu2iHdWW"
      }
    },
    {
      "cell_type": "code",
      "source": [
        "trainloader = torch.utils.data.DataLoader(train_set, batch_size=batch_size,\n",
        "                                          shuffle=True, num_workers=2) \n",
        "\n",
        "testloader = torch.utils.data.DataLoader(test_set, batch_size=batch_size,\n",
        "                                         shuffle=False, num_workers=2)"
      ],
      "metadata": {
        "id": "U0797VTgH3fl"
      },
      "execution_count": null,
      "outputs": []
    },
    {
      "cell_type": "markdown",
      "source": [
        "# Visualizing Data\n",
        "\n",
        "First, define imshow, a common function to display images using matplotlib & numpy\n",
        "\n",
        "**Note:** the range here used to be batch_size, but was changed to 4 to prevent display bugs if the batch_size is increased to 32 or 64 later"
      ],
      "metadata": {
        "id": "T7_hxClK3m4r"
      }
    },
    {
      "cell_type": "code",
      "source": [
        "import matplotlib.pyplot as plt\n",
        "import numpy as np\n",
        "\n",
        "# function to show an image\n",
        "def imshow(img):\n",
        "    img = img / 2 + 0.5     # unnormalize\n",
        "    npimg = img.numpy()\n",
        "    plt.imshow(np.transpose(npimg, (1, 2, 0)))\n",
        "    plt.show()\n",
        "\n",
        "# get some random training images\n",
        "dataiter = iter(trainloader)\n",
        "\n",
        "images, labels = next(dataiter)\n",
        "\n",
        "# show images\n",
        "imshow(torchvision.utils.make_grid(images))\n",
        "# print labels using f string concatenation\n",
        "print(' '.join(f'{classes[labels[j]]:5s}' for j in range(4)))"
      ],
      "metadata": {
        "colab": {
          "base_uri": "https://localhost:8080/",
          "height": 209
        },
        "id": "B_YMXtcG3mhL",
        "outputId": "b4f19485-7dfc-46a5-97df-d319abaf7e2b"
      },
      "execution_count": null,
      "outputs": [
        {
          "output_type": "display_data",
          "data": {
            "text/plain": [
              "<Figure size 640x480 with 1 Axes>"
            ],
            "image/png": "[encoded data removed]"
          },
          "metadata": {}
        },
        {
          "output_type": "stream",
          "name": "stdout",
          "text": [
            "Happy Neutral Sad   Surprise\n"
          ]
        }
      ]
    },
    {
      "cell_type": "markdown",
      "source": [
        "# 2. Defining a Convolutional Neural Network\n",
        "Here we define a very basic CNN structure with 2 convolutional layers & 3 fully connected layers. We also define the forward pass which is common practice."
      ],
      "metadata": {
        "id": "_y9yueRA71zI"
      }
    },
    {
      "cell_type": "code",
      "source": [
        "import torch.nn as nn\n",
        "import torch.nn.functional as F\n",
        "\n",
        "\n",
        "class Net(nn.Module):\n",
        "\n",
        "    def __init__(self):\n",
        "        super().__init__()\n",
        "        self.conv1 = nn.Conv2d(1, 16, kernel_size=3, padding=1)\n",
        "        self.pool = nn.MaxPool2d(2, 2)\n",
        "        self.conv2 = nn.Conv2d(16, 32, kernel_size=3, padding=1)\n",
        "        self.fc1 = nn.Linear(32 * 12 * 12, 128)\n",
        "        self.fc2 = nn.Linear(128, 32)\n",
        "        self.fc3 = nn.Linear(32, 7)\n",
        "\n",
        "    def forward(self, x):\n",
        "        x = self.pool(F.relu(self.conv1(x)))\n",
        "        x = self.pool(F.relu(self.conv2(x)))\n",
        "        x = torch.flatten(x, 1) # flatten all dimensions except batch\n",
        "        x = F.relu(self.fc1(x))\n",
        "        x = F.relu(self.fc2(x))\n",
        "        x = self.fc3(x)\n",
        "        return x\n",
        "        print(\"in this forward pass, x is \")\n",
        "        print(x)\n",
        "\n",
        "\n",
        "net = Net() # this creates an instance of the Net class, which has the constructor & forward function defined above\n"
      ],
      "metadata": {
        "id": "SLcSG9-q8Gmd"
      },
      "execution_count": null,
      "outputs": []
    },
    {
      "cell_type": "markdown",
      "source": [
        "# 3. Define the Loss Function & optimizer\n",
        "Here we use Classification Cross-Entropy loss & SGD (stochastic gradient descent) with momentum"
      ],
      "metadata": {
        "id": "bEtztwVURIvT"
      }
    },
    {
      "cell_type": "code",
      "source": [
        "import torch.optim as optim\n",
        "\n",
        "criterion = nn.CrossEntropyLoss()\n",
        "optimizer = optim.SGD(net.parameters(), lr=0.001, momentum=0.9)"
      ],
      "metadata": {
        "id": "OfLiWocTRck3"
      },
      "execution_count": null,
      "outputs": []
    },
    {
      "cell_type": "markdown",
      "source": [
        "# 4. Train the network\n",
        "To do this we simply loop over the data iterator and feed the data into the network & optimize\n",
        "\n",
        "**Note** that we only have 2 epochs -- this is a sign of a really simple model. Increasing the epochs will increase model accuracy."
      ],
      "metadata": {
        "id": "_5IuX-THSUNH"
      }
    },
    {
      "cell_type": "code",
      "source": [
        "for epoch in range(2):  # loop over the dataset multiple times\n",
        "    print('epoch ' + str(epoch))\n",
        "    running_loss = 0.0\n",
        "    for i, data in enumerate(trainloader, 0):\n",
        "        # get the inputs; data is a list of [inputs, labels]\n",
        "        inputs, labels = data\n",
        "\n",
        "        # zero the parameter gradients\n",
        "        optimizer.zero_grad()\n",
        "\n",
        "        '''\n",
        "        the 4 lines below represent one iteration through the training data\n",
        "\n",
        "        about the bottom 2 lines: \n",
        "        Together, these two lines of code represent one iteration of the training process. \n",
        "        The loss is computed for the current batch of data, the gradients are calculated, \n",
        "        and the optimizer updates the model parameters accordingly. This process is repeated \n",
        "        for multiple iterations (or \"epochs\") until the model's performance on a validation \n",
        "        set reaches a satisfactory level.\n",
        "        '''\n",
        "\n",
        "        # forward + backward + optimize\n",
        "        outputs = net(inputs)\n",
        "        loss = criterion(outputs, labels) # criterion is just a fancy word for the loss function!\n",
        "        loss.backward() \n",
        "        optimizer.step()\n",
        "\n",
        "        # print statistics\n",
        "        running_loss += loss.item()\n",
        "        if i % 2000 == 1999:    # print every 2000 mini-batches\n",
        "            print(f'[{epoch + 1}, {i + 1:5d}] loss: {running_loss / 2000:.3f}')\n",
        "            running_loss = 0.0\n",
        "\n",
        "print('Finished Training')"
      ],
      "metadata": {
        "colab": {
          "base_uri": "https://localhost:8080/"
        },
        "id": "qk3RSwO2OifV",
        "outputId": "b83e3d93-8255-4071-e60c-702901e2c0b9"
      },
      "execution_count": null,
      "outputs": [
        {
          "output_type": "stream",
          "name": "stdout",
          "text": [
            "epoch 0\n",
            "[1,  2000] loss: 1.810\n",
            "[1,  4000] loss: 1.707\n",
            "epoch 1\n",
            "[2,  2000] loss: 1.587\n",
            "[2,  4000] loss: 1.530\n",
            "Finished Training\n"
          ]
        }
      ]
    },
    {
      "cell_type": "markdown",
      "source": [
        "# Saving the model\n",
        "Let's quickly save our trained model:\n",
        "**Note: ** this isn't necessary but it's helpful to have an example of how to save it here, and provides an option for people to save the model if they clone this"
      ],
      "metadata": {
        "id": "JZC8EIJB8wdg"
      }
    },
    {
      "cell_type": "code",
      "source": [
        "PATH = './fer2013_net.pth' # Note that this name should change when we adapt this to fer dataset\n",
        "torch.save(net.state_dict(), PATH)"
      ],
      "metadata": {
        "id": "NngKj8VH82Jj"
      },
      "execution_count": null,
      "outputs": []
    },
    {
      "cell_type": "markdown",
      "source": [
        "Next, let's load back in our saved model\n",
        "\n",
        "# Loading the model\n",
        "\n",
        "**Note:** As mentioned, saving and re-loding the model ins't necesary here -- we only did it to illustrate how to do so  :)"
      ],
      "metadata": {
        "id": "x-0i2I2q-Kss"
      }
    },
    {
      "cell_type": "code",
      "source": [
        "net = Net()\n",
        "net.load_state_dict(torch.load(PATH))"
      ],
      "metadata": {
        "id": "Jm8d1bcB-TpE",
        "colab": {
          "base_uri": "https://localhost:8080/"
        },
        "outputId": "d602fac4-0c82-4842-f277-dca14709072a"
      },
      "execution_count": null,
      "outputs": [
        {
          "output_type": "execute_result",
          "data": {
            "text/plain": [
              "<All keys matched successfully>"
            ]
          },
          "metadata": {},
          "execution_count": 10
        }
      ]
    },
    {
      "cell_type": "markdown",
      "source": [
        "## 5. Visualizing the test data\n",
        "\n",
        "Before we check the accuracy of the model, let's visualize the test data to make sure it's what we expect."
      ],
      "metadata": {
        "id": "pOzOLkJs9XPI"
      }
    },
    {
      "cell_type": "code",
      "source": [
        "dataiter = iter(testloader)\n",
        "images, labels = next(dataiter)\n",
        "\n",
        "# show images\n",
        "print(\"Examples of test images\")\n",
        "imshow(torchvision.utils.make_grid(images))\n",
        "# print labels\n",
        "print(' '.join(f'{classes[labels[j]]:5s}' for j in range(4)))"
      ],
      "metadata": {
        "colab": {
          "base_uri": "https://localhost:8080/",
          "height": 227
        },
        "id": "3wkr9avpIocT",
        "outputId": "189f4563-ad9b-4cf5-e609-0d16d4fa0031"
      },
      "execution_count": null,
      "outputs": [
        {
          "output_type": "stream",
          "name": "stdout",
          "text": [
            "Examples of test images\n"
          ]
        },
        {
          "output_type": "display_data",
          "data": {
            "text/plain": [
              "<Figure size 640x480 with 1 Axes>"
            ],
            "image/png": "[encoded data removed]"
          },
          "metadata": {}
        },
        {
          "output_type": "stream",
          "name": "stdout",
          "text": [
            "Happy Surprise Happy Angry\n"
          ]
        }
      ]
    },
    {
      "cell_type": "markdown",
      "source": [
        "# Running the model on 4 test images\n",
        "\n",
        "Now that we can see the 4 test images & their labels, let's see what the neural network thinks the 4 examples above are.\n",
        "\n",
        "**Note:** This is a good practice to gauge how the model is doing before running it on the whole dataset"
      ],
      "metadata": {
        "id": "Aqp0MZZu-rL2"
      }
    },
    {
      "cell_type": "code",
      "source": [
        "outputs = net(images)\n",
        "print(outputs) # this isn't necessary"
      ],
      "metadata": {
        "id": "7tzEjTiX-xrV",
        "colab": {
          "base_uri": "https://localhost:8080/",
          "height": 166
        },
        "outputId": "2333e27e-79aa-401e-88d2-4f5178b5addc"
      },
      "execution_count": 1,
      "outputs": [
        {
          "output_type": "error",
          "ename": "NameError",
          "evalue": "ignored",
          "traceback": [
            "\u001b[0;31m---------------------------------------------------------------------------\u001b[0m",
            "\u001b[0;31mNameError\u001b[0m                                 Traceback (most recent call last)",
            "\u001b[0;32m<ipython-input-1-6e53c5807822>\u001b[0m in \u001b[0;36m<cell line: 1>\u001b[0;34m()\u001b[0m\n\u001b[0;32m----> 1\u001b[0;31m \u001b[0moutputs\u001b[0m \u001b[0;34m=\u001b[0m \u001b[0mnet\u001b[0m\u001b[0;34m(\u001b[0m\u001b[0mimages\u001b[0m\u001b[0;34m)\u001b[0m\u001b[0;34m\u001b[0m\u001b[0;34m\u001b[0m\u001b[0m\n\u001b[0m",
            "\u001b[0;31mNameError\u001b[0m: name 'net' is not defined"
          ]
        }
      ]
    },
    {
      "cell_type": "markdown",
      "source": [
        "The outputs are energies for the 7 classes. The higher the energy for a class, the more the network thinks that the image is of the particular class. So, let's get the index of the highest energy:"
      ],
      "metadata": {
        "id": "MFR-x7qY-9aQ"
      }
    },
    {
      "cell_type": "code",
      "source": [
        "# torch.max returns [maximum_tensor_value, index of the class with the highest probability]\n",
        "# prediced is a list of the indices of the labels\n",
        "_, predicted = torch.max(outputs, 1) # interestingly, '_,' is used to discard the first thing that torch.max returns\n",
        "\n",
        "# the label index is passed into the classes list to return the string representing the class label (at the predicted index)\n",
        "print('Predicted: ', ' '.join(f'{classes[predicted[j]]:5s}' for j in range(4)))\n",
        "\n",
        "# this is unecessary, but helps to understand what each variable is\n",
        "print(\"The corresponding class labels for the predictions are \" + str(predicted) + \" from the following classes: \\n\" + str(classes))\n"
      ],
      "metadata": {
        "id": "73O5sBq__IPf",
        "colab": {
          "base_uri": "https://localhost:8080/"
        },
        "outputId": "ad6e11d7-7964-43e5-dd13-1ad6236a1c7f"
      },
      "execution_count": null,
      "outputs": [
        {
          "output_type": "stream",
          "name": "stdout",
          "text": [
            "Predicted:  Happy Fear  Sad   Neutral\n",
            "The corresponding class labels for the predictions are tensor([3, 2, 4, 6]) from the following classes: \n",
            "('Angry', 'Disgust', 'Fear', 'Happy', 'Sad', 'Surprise', 'Neutral')\n"
          ]
        }
      ]
    },
    {
      "cell_type": "markdown",
      "source": [
        "# Running the model on the entire test dataset\n",
        "Now we will run the model on the whole test dataset to see how it performs. Notice that we use simple counters to track & compute the average accuracy\n",
        "\n",
        "**Note:** we use torch.no_grad() when we're not training the model,because we don't need to compute gradients during the testing phase & it would just waste space in memory"
      ],
      "metadata": {
        "id": "WyPLPWJqUT7g"
      }
    },
    {
      "cell_type": "code",
      "source": [
        "correct = 0\n",
        "total = 0\n",
        "# since we're not training, we don't need to calculate the gradients for our outputs\n",
        "with torch.no_grad():\n",
        "    for data in testloader:\n",
        "        images, labels = data\n",
        "        outputs = net(images)\n",
        "        _, predicted = torch.max(outputs, 1) # (outputs, 1) returns the class predictions like [3, 1, 8, 0] above\n",
        "        # collct the correct predictions for each class\n",
        "        total += labels.size(0)\n",
        "        correct += (predicted == labels).sum().item()\n",
        "print(f'Accuracy of the network on the test images: {100 * correct // total} %')"
      ],
      "metadata": {
        "id": "TMnWyVMvUX0c",
        "colab": {
          "base_uri": "https://localhost:8080/"
        },
        "outputId": "8cd45670-5c62-40ae-d310-97b3e9eeaf2d"
      },
      "execution_count": null,
      "outputs": [
        {
          "output_type": "stream",
          "name": "stdout",
          "text": [
            "Accuracy of the network on the test images: 44 %\n"
          ]
        }
      ]
    },
    {
      "cell_type": "markdown",
      "source": [
        "That is better than chance, which is 14% accuracy (picking a class at random), which means that the model has learned something.\n",
        "\n",
        "Now let's see which classes that performed well and which didn't.\n",
        "\n",
        "# Exploring which classes performed well & which didn't\n",
        "\n",
        "Note: Notice that you will get different accuracies for each class every time you train the neural network. This is partly due to random initialization of weights & biases and shuffling of training data (i.e. when shuffle=True in the dataloader)"
      ],
      "metadata": {
        "id": "PEaoGABbdWpH"
      }
    },
    {
      "cell_type": "code",
      "source": [
        "correct_pred = {classname: 0 for classname in classes} # using dictionary comprehension here\n",
        "total_pred = {classname: 0 for classname in classes} \n",
        "\n",
        "array = [0] * 7 # create an array w/ 7 slots\n",
        "\n",
        "# again, no gradients are needed\n",
        "with torch.no_grad():\n",
        "    for data in testloader:\n",
        "        images, labels = data\n",
        "        outputs = net(images)\n",
        "        _, predictions = torch.max(outputs, 1)\n",
        "        # collect the correct predictions for each class\n",
        "        for label, prediction in zip(labels, predictions): # for each label\n",
        "\n",
        "            array[label] += 1 #TODO: DO I NEED THIS LINE?? \n",
        "\n",
        "            if label == prediction: # if the (actual) label = the (expected) prediction \n",
        "                correct_pred[classes[label]] += 1 # increment correct predictions counter\n",
        "            total_pred[classes[label]] += 1 # increment total predictions \n",
        "\n",
        "print(array)\n",
        "print(total_pred)\n",
        "print('label is ' + str(label))\n",
        "print(total_pred[classes[label]])\n",
        "\n",
        "\n",
        "i = 0 \n",
        "for classname, correct_count in correct_pred.items():\n",
        "    print(classname)\n",
        "    accuracy = 100 * float(correct_count) / total_pred[classname]\n",
        "    # print(f'Accuracy for class: {classname:5s} is {accuracy:.1f} %')\n",
        "    print(f'Accuracy for class: {classname:5s} is {accuracy:.1f} % out of {array[i]} samples in that class')\n",
        "    i += 1\n",
        "\n"
      ],
      "metadata": {
        "id": "eDnlEcc3dWby",
        "colab": {
          "base_uri": "https://localhost:8080/"
        },
        "outputId": "a341cc9a-5cca-4e9a-f1f1-9b7693937fde"
      },
      "execution_count": null,
      "outputs": [
        {
          "output_type": "stream",
          "name": "stdout",
          "text": [
            "[805, 74, 779, 1445, 971, 684, 984]\n",
            "{'Angry': 805, 'Disgust': 74, 'Fear': 779, 'Happy': 1445, 'Sad': 971, 'Surprise': 684, 'Neutral': 984}\n",
            "label is tensor(4)\n",
            "971\n",
            "Angry\n",
            "Accuracy for class: Angry is 15.9 % out of 805 samples in that class\n",
            "Disgust\n",
            "Accuracy for class: Disgust is 0.0 % out of 74 samples in that class\n",
            "Fear\n",
            "Accuracy for class: Fear  is 25.4 % out of 779 samples in that class\n",
            "Happy\n",
            "Accuracy for class: Happy is 72.7 % out of 1445 samples in that class\n",
            "Sad\n",
            "Accuracy for class: Sad   is 46.7 % out of 971 samples in that class\n",
            "Surprise\n",
            "Accuracy for class: Surprise is 55.7 % out of 684 samples in that class\n",
            "Neutral\n",
            "Accuracy for class: Neutral is 33.4 % out of 984 samples in that class\n"
          ]
        }
      ]
    },
    {
      "cell_type": "markdown",
      "source": [
        "# Running the neural net on the GPU\n",
        "\n",
        "This is optional, but running on GPU is much faster than CPU"
      ],
      "metadata": {
        "id": "DMr1WSsegZ7g"
      }
    },
    {
      "cell_type": "markdown",
      "source": [
        "# Training on GPU \n",
        "## using \"if torch.cuda.is_available\"\n",
        "Just like how you transfer a Tensor onto the GPU, you transfer the neural net onto the GPU. \n",
        "Let's first deine our device as the first visible cuda device is we have CUDA available:"
      ],
      "metadata": {
        "id": "Rgt5NSlYgc9S"
      }
    },
    {
      "cell_type": "code",
      "source": [
        "device = torch.device('cuda:0' if torch.cuda.is_available else 'cpu')\n",
        "# Now print device to see if we are running on the GPU (cuda) or CPU\n",
        "print(device) "
      ],
      "metadata": {
        "id": "6bwLrGF3gudq",
        "colab": {
          "base_uri": "https://localhost:8080/"
        },
        "outputId": "3847da6b-4680-4187-d3d4-26520d9a99f4"
      },
      "execution_count": null,
      "outputs": [
        {
          "output_type": "stream",
          "name": "stdout",
          "text": [
            "cuda:0\n"
          ]
        }
      ]
    },
    {
      "cell_type": "markdown",
      "source": [
        "### **Note:** the rest of this sections assumes that device is a CUDA device\n",
        "\n",
        "Theses methods will recursively go ove all modules and convert their parameters and buffers to CUDA tensors:\n",
        "\n",
        "\n",
        "### **Note:** When running on Google Colab, if you get an **error related to 'no NVIDIA driver'** it just means you need to **change runtime type** from CPU -> GPU by clicking Runtime > Change Runtime Type above. Google Collab runs code remotely on google servers and gives you the choice between running on CPU or GPU.\n"
      ],
      "metadata": {
        "id": "VeJTRwesg_Y6"
      }
    },
    {
      "cell_type": "code",
      "source": [
        "net.to(device)"
      ],
      "metadata": {
        "id": "N4fPVE1QhJ8U",
        "colab": {
          "base_uri": "https://localhost:8080/",
          "height": 311
        },
        "outputId": "73ebe3dc-a574-4ac3-d7db-5a43db722c25"
      },
      "execution_count": null,
      "outputs": [
        {
          "output_type": "error",
          "ename": "RuntimeError",
          "evalue": "ignored",
          "traceback": [
            "\u001b[0;31m---------------------------------------------------------------------------\u001b[0m",
            "\u001b[0;31mRuntimeError\u001b[0m                              Traceback (most recent call last)",
            "\u001b[0;32m<ipython-input-17-aa464e9d90d3>\u001b[0m in \u001b[0;36m<cell line: 1>\u001b[0;34m()\u001b[0m\n\u001b[0;32m----> 1\u001b[0;31m \u001b[0mnet\u001b[0m\u001b[0;34m.\u001b[0m\u001b[0mto\u001b[0m\u001b[0;34m(\u001b[0m\u001b[0mdevice\u001b[0m\u001b[0;34m)\u001b[0m\u001b[0;34m\u001b[0m\u001b[0;34m\u001b[0m\u001b[0m\n\u001b[0m",
            "\u001b[0;32m/usr/local/lib/python3.10/dist-packages/torch/nn/modules/module.py\u001b[0m in \u001b[0;36mto\u001b[0;34m(self, *args, **kwargs)\u001b[0m\n\u001b[1;32m   1143\u001b[0m             \u001b[0;32mreturn\u001b[0m \u001b[0mt\u001b[0m\u001b[0;34m.\u001b[0m\u001b[0mto\u001b[0m\u001b[0;34m(\u001b[0m\u001b[0mdevice\u001b[0m\u001b[0;34m,\u001b[0m \u001b[0mdtype\u001b[0m \u001b[0;32mif\u001b[0m \u001b[0mt\u001b[0m\u001b[0;34m.\u001b[0m\u001b[0mis_floating_point\u001b[0m\u001b[0;34m(\u001b[0m\u001b[0;34m)\u001b[0m \u001b[0;32mor\u001b[0m \u001b[0mt\u001b[0m\u001b[0;34m.\u001b[0m\u001b[0mis_complex\u001b[0m\u001b[0;34m(\u001b[0m\u001b[0;34m)\u001b[0m \u001b[0;32melse\u001b[0m \u001b[0;32mNone\u001b[0m\u001b[0;34m,\u001b[0m \u001b[0mnon_blocking\u001b[0m\u001b[0;34m)\u001b[0m\u001b[0;34m\u001b[0m\u001b[0;34m\u001b[0m\u001b[0m\n\u001b[1;32m   1144\u001b[0m \u001b[0;34m\u001b[0m\u001b[0m\n\u001b[0;32m-> 1145\u001b[0;31m         \u001b[0;32mreturn\u001b[0m \u001b[0mself\u001b[0m\u001b[0;34m.\u001b[0m\u001b[0m_apply\u001b[0m\u001b[0;34m(\u001b[0m\u001b[0mconvert\u001b[0m\u001b[0;34m)\u001b[0m\u001b[0;34m\u001b[0m\u001b[0;34m\u001b[0m\u001b[0m\n\u001b[0m\u001b[1;32m   1146\u001b[0m \u001b[0;34m\u001b[0m\u001b[0m\n\u001b[1;32m   1147\u001b[0m     def register_full_backward_pre_hook(\n",
            "\u001b[0;32m/usr/local/lib/python3.10/dist-packages/torch/nn/modules/module.py\u001b[0m in \u001b[0;36m_apply\u001b[0;34m(self, fn)\u001b[0m\n\u001b[1;32m    795\u001b[0m     \u001b[0;32mdef\u001b[0m \u001b[0m_apply\u001b[0m\u001b[0;34m(\u001b[0m\u001b[0mself\u001b[0m\u001b[0;34m,\u001b[0m \u001b[0mfn\u001b[0m\u001b[0;34m)\u001b[0m\u001b[0;34m:\u001b[0m\u001b[0;34m\u001b[0m\u001b[0;34m\u001b[0m\u001b[0m\n\u001b[1;32m    796\u001b[0m         \u001b[0;32mfor\u001b[0m \u001b[0mmodule\u001b[0m \u001b[0;32min\u001b[0m \u001b[0mself\u001b[0m\u001b[0;34m.\u001b[0m\u001b[0mchildren\u001b[0m\u001b[0;34m(\u001b[0m\u001b[0;34m)\u001b[0m\u001b[0;34m:\u001b[0m\u001b[0;34m\u001b[0m\u001b[0;34m\u001b[0m\u001b[0m\n\u001b[0;32m--> 797\u001b[0;31m             \u001b[0mmodule\u001b[0m\u001b[0;34m.\u001b[0m\u001b[0m_apply\u001b[0m\u001b[0;34m(\u001b[0m\u001b[0mfn\u001b[0m\u001b[0;34m)\u001b[0m\u001b[0;34m\u001b[0m\u001b[0;34m\u001b[0m\u001b[0m\n\u001b[0m\u001b[1;32m    798\u001b[0m \u001b[0;34m\u001b[0m\u001b[0m\n\u001b[1;32m    799\u001b[0m         \u001b[0;32mdef\u001b[0m \u001b[0mcompute_should_use_set_data\u001b[0m\u001b[0;34m(\u001b[0m\u001b[0mtensor\u001b[0m\u001b[0;34m,\u001b[0m \u001b[0mtensor_applied\u001b[0m\u001b[0;34m)\u001b[0m\u001b[0;34m:\u001b[0m\u001b[0;34m\u001b[0m\u001b[0;34m\u001b[0m\u001b[0m\n",
            "\u001b[0;32m/usr/local/lib/python3.10/dist-packages/torch/nn/modules/module.py\u001b[0m in \u001b[0;36m_apply\u001b[0;34m(self, fn)\u001b[0m\n\u001b[1;32m    818\u001b[0m             \u001b[0;31m# `with torch.no_grad():`\u001b[0m\u001b[0;34m\u001b[0m\u001b[0;34m\u001b[0m\u001b[0m\n\u001b[1;32m    819\u001b[0m             \u001b[0;32mwith\u001b[0m \u001b[0mtorch\u001b[0m\u001b[0;34m.\u001b[0m\u001b[0mno_grad\u001b[0m\u001b[0;34m(\u001b[0m\u001b[0;34m)\u001b[0m\u001b[0;34m:\u001b[0m\u001b[0;34m\u001b[0m\u001b[0;34m\u001b[0m\u001b[0m\n\u001b[0;32m--> 820\u001b[0;31m                 \u001b[0mparam_applied\u001b[0m \u001b[0;34m=\u001b[0m \u001b[0mfn\u001b[0m\u001b[0;34m(\u001b[0m\u001b[0mparam\u001b[0m\u001b[0;34m)\u001b[0m\u001b[0;34m\u001b[0m\u001b[0;34m\u001b[0m\u001b[0m\n\u001b[0m\u001b[1;32m    821\u001b[0m             \u001b[0mshould_use_set_data\u001b[0m \u001b[0;34m=\u001b[0m \u001b[0mcompute_should_use_set_data\u001b[0m\u001b[0;34m(\u001b[0m\u001b[0mparam\u001b[0m\u001b[0;34m,\u001b[0m \u001b[0mparam_applied\u001b[0m\u001b[0;34m)\u001b[0m\u001b[0;34m\u001b[0m\u001b[0;34m\u001b[0m\u001b[0m\n\u001b[1;32m    822\u001b[0m             \u001b[0;32mif\u001b[0m \u001b[0mshould_use_set_data\u001b[0m\u001b[0;34m:\u001b[0m\u001b[0;34m\u001b[0m\u001b[0;34m\u001b[0m\u001b[0m\n",
            "\u001b[0;32m/usr/local/lib/python3.10/dist-packages/torch/nn/modules/module.py\u001b[0m in \u001b[0;36mconvert\u001b[0;34m(t)\u001b[0m\n\u001b[1;32m   1141\u001b[0m                 return t.to(device, dtype if t.is_floating_point() or t.is_complex() else None,\n\u001b[1;32m   1142\u001b[0m                             non_blocking, memory_format=convert_to_format)\n\u001b[0;32m-> 1143\u001b[0;31m             \u001b[0;32mreturn\u001b[0m \u001b[0mt\u001b[0m\u001b[0;34m.\u001b[0m\u001b[0mto\u001b[0m\u001b[0;34m(\u001b[0m\u001b[0mdevice\u001b[0m\u001b[0;34m,\u001b[0m \u001b[0mdtype\u001b[0m \u001b[0;32mif\u001b[0m \u001b[0mt\u001b[0m\u001b[0;34m.\u001b[0m\u001b[0mis_floating_point\u001b[0m\u001b[0;34m(\u001b[0m\u001b[0;34m)\u001b[0m \u001b[0;32mor\u001b[0m \u001b[0mt\u001b[0m\u001b[0;34m.\u001b[0m\u001b[0mis_complex\u001b[0m\u001b[0;34m(\u001b[0m\u001b[0;34m)\u001b[0m \u001b[0;32melse\u001b[0m \u001b[0;32mNone\u001b[0m\u001b[0;34m,\u001b[0m \u001b[0mnon_blocking\u001b[0m\u001b[0;34m)\u001b[0m\u001b[0;34m\u001b[0m\u001b[0;34m\u001b[0m\u001b[0m\n\u001b[0m\u001b[1;32m   1144\u001b[0m \u001b[0;34m\u001b[0m\u001b[0m\n\u001b[1;32m   1145\u001b[0m         \u001b[0;32mreturn\u001b[0m \u001b[0mself\u001b[0m\u001b[0;34m.\u001b[0m\u001b[0m_apply\u001b[0m\u001b[0;34m(\u001b[0m\u001b[0mconvert\u001b[0m\u001b[0;34m)\u001b[0m\u001b[0;34m\u001b[0m\u001b[0;34m\u001b[0m\u001b[0m\n",
            "\u001b[0;32m/usr/local/lib/python3.10/dist-packages/torch/cuda/__init__.py\u001b[0m in \u001b[0;36m_lazy_init\u001b[0;34m()\u001b[0m\n\u001b[1;32m    245\u001b[0m         \u001b[0;32mif\u001b[0m \u001b[0;34m'CUDA_MODULE_LOADING'\u001b[0m \u001b[0;32mnot\u001b[0m \u001b[0;32min\u001b[0m \u001b[0mos\u001b[0m\u001b[0;34m.\u001b[0m\u001b[0menviron\u001b[0m\u001b[0;34m:\u001b[0m\u001b[0;34m\u001b[0m\u001b[0;34m\u001b[0m\u001b[0m\n\u001b[1;32m    246\u001b[0m             \u001b[0mos\u001b[0m\u001b[0;34m.\u001b[0m\u001b[0menviron\u001b[0m\u001b[0;34m[\u001b[0m\u001b[0;34m'CUDA_MODULE_LOADING'\u001b[0m\u001b[0;34m]\u001b[0m \u001b[0;34m=\u001b[0m \u001b[0;34m'LAZY'\u001b[0m\u001b[0;34m\u001b[0m\u001b[0;34m\u001b[0m\u001b[0m\n\u001b[0;32m--> 247\u001b[0;31m         \u001b[0mtorch\u001b[0m\u001b[0;34m.\u001b[0m\u001b[0m_C\u001b[0m\u001b[0;34m.\u001b[0m\u001b[0m_cuda_init\u001b[0m\u001b[0;34m(\u001b[0m\u001b[0;34m)\u001b[0m\u001b[0;34m\u001b[0m\u001b[0;34m\u001b[0m\u001b[0m\n\u001b[0m\u001b[1;32m    248\u001b[0m         \u001b[0;31m# Some of the queued calls may reentrantly call _lazy_init();\u001b[0m\u001b[0;34m\u001b[0m\u001b[0;34m\u001b[0m\u001b[0m\n\u001b[1;32m    249\u001b[0m         \u001b[0;31m# we need to just return without initializing in that case.\u001b[0m\u001b[0;34m\u001b[0m\u001b[0;34m\u001b[0m\u001b[0m\n",
            "\u001b[0;31mRuntimeError\u001b[0m: Found no NVIDIA driver on your system. Please check that you have an NVIDIA GPU and installed a driver from http://www.nvidia.com/Download/index.aspx"
          ]
        }
      ]
    },
    {
      "cell_type": "markdown",
      "source": [
        "Remember that you will have to send the inputs and targets at every step to the GPU too:"
      ],
      "metadata": {
        "id": "ikrxbCdxhPrO"
      }
    },
    {
      "cell_type": "code",
      "source": [
        "inputs, labels = data[0].to(device), data[1].to(device)"
      ],
      "metadata": {
        "id": "442Am58ihUjY"
      },
      "execution_count": null,
      "outputs": []
    },
    {
      "cell_type": "markdown",
      "source": [
        "Currently there isn't a massive speedup compared to CPU because the network is really small (basic architecture, very few epochs). \n",
        "\n",
        "Increasing the width of the network (argument 2 of the first nn.Conv2d & argument 1 of the second nn.Conv2d -- they need to be the same number), will yield more significant GPU speed ups than the current architecture. "
      ],
      "metadata": {
        "id": "2XvxeXpIlAam"
      }
    },
    {
      "cell_type": "markdown",
      "source": [
        "# Learning Outcomes:\n",
        "\n",
        "*   Understanding PyTorches Tensor librrary and neural networks at a high level\n",
        "*   Train a small neural network to classify emotions using FER2013 dataset\n",
        "*   Split training data & testing data\n",
        "*   Familiarity with numpy & matplotlib\n",
        "*   Familiarity with tensor transforms to normalize & pre-process images\n",
        "*   Familiarity with pytorch dataloader, enumerate, and other essential ML functions in pytorch\n",
        "*   Understanding f-string concatenation\n",
        "*   Practice adapting documentation & best-practices to common datasets & CV tasks\n"
      ],
      "metadata": {
        "id": "qznLrjbOdnDe"
      }
    }
  ]
}